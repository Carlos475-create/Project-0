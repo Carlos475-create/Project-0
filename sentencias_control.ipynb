{
 "cells": [
  {
   "cell_type": "markdown",
   "metadata": {},
   "source": [
    "<div style=\"text-align: center;\">\n",
    "  <img src=\"https://github.com/Hack-io-Data/Imagenes/blob/main/01-LogosHackio/logo_celeste@4x.png?raw=true\" alt=\"logo hack(io)\" />\n",
    "</div>"
   ]
  },
  {
   "cell_type": "markdown",
   "metadata": {},
   "source": [
    "#### 1. Escribe un programa que determine si un número es par o impar.\n",
    "\n"
   ]
  },
  {
   "cell_type": "code",
   "execution_count": 29,
   "metadata": {},
   "outputs": [
    {
     "name": "stdout",
     "output_type": "stream",
     "text": [
      "número par\n"
     ]
    }
   ],
   "source": [
    "número = 6\n",
    "if número % 2 == 0:\n",
    "    print(\"número par\")\n",
    "else: \n",
    "    print(\"número impar\")"
   ]
  },
  {
   "cell_type": "markdown",
   "metadata": {},
   "source": [
    "#### 2. Genera un programa que nos diga si es de noche, de día o tarde según la hora proporcionada por el usuario."
   ]
  },
  {
   "cell_type": "code",
   "execution_count": 31,
   "metadata": {},
   "outputs": [
    {
     "name": "stdout",
     "output_type": "stream",
     "text": [
      "tarde\n"
     ]
    }
   ],
   "source": [
    "horas = int(input(\"introduzca una hora:\"))\n",
    "\n",
    "if horas < 12:\n",
    "    print(\"día\")\n",
    "if horas < 20:\n",
    "    print(\"tarde\")\n",
    "else:\n",
    "    print(\"noche\")"
   ]
  },
  {
   "cell_type": "markdown",
   "metadata": {},
   "source": [
    "#### 3. Dado un nombre imprime un saludo personalizado."
   ]
  },
  {
   "cell_type": "code",
   "execution_count": 50,
   "metadata": {},
   "outputs": [
    {
     "name": "stdout",
     "output_type": "stream",
     "text": [
      "Buenos días pepe\n"
     ]
    }
   ],
   "source": [
    "nombre = input(\"Por favor introduce tu nombre:\")\n",
    "print(f\"Buenos días {nombre}\")"
   ]
  },
  {
   "cell_type": "markdown",
   "metadata": {},
   "source": [
    "#### 4. Escribe un programa que determine qué calificación en texto tiene un alumno en base a su calificación numérica. Las reglas de calificación son: \n",
    "\n",
    "- 0 - 69 insuficiente\n",
    "\n",
    "- 70 - 79 bien\n",
    "\n",
    "- 80 - 89 muy bien\n",
    "\n",
    "- 90 - 100 excelente\n"
   ]
  },
  {
   "cell_type": "code",
   "execution_count": 48,
   "metadata": {},
   "outputs": [
    {
     "name": "stdout",
     "output_type": "stream",
     "text": [
      "muy bien\n"
     ]
    }
   ],
   "source": [
    "calificación_numérica = int(input(\"Introduzca una calificación numérica:\"))\n",
    "\n",
    "if calificación_numérica <= 69:\n",
    "    print(\"insuficiente\")\n",
    "elif calificación_numérica < 79:\n",
    "    print(\"bien\")\n",
    "elif calificación_numérica < 89:\n",
    "    print(\"muy bien\")\n",
    "else:\n",
    "    print(\"excelente\")\n"
   ]
  },
  {
   "cell_type": "markdown",
   "metadata": {},
   "source": [
    "#### 5. Escribe un programa que imprima el día de la semana, dado un número del 1 al 7.\n"
   ]
  },
  {
   "cell_type": "code",
   "execution_count": 51,
   "metadata": {},
   "outputs": [
    {
     "name": "stdout",
     "output_type": "stream",
     "text": [
      "Viernes\n"
     ]
    }
   ],
   "source": [
    "día_semana = int(input(\"introduzca un día de la semana:\"))\n",
    "if día_semana == 1:\n",
    "    print(\"Lunes\")\n",
    "elif día_semana == 2:\n",
    "    print(\"Lunes\") \n",
    "elif día_semana == 3:\n",
    "    print(\"Miércoles\")\n",
    "elif día_semana == 4:\n",
    "    print(\"Jueves\")\n",
    "elif día_semana == 5:\n",
    "    print(\"Viernes\")\n",
    "elif día_semana == 6:\n",
    "    print(\"Sábado\")\n",
    "else:\n",
    "    print(\"Domingo\")"
   ]
  },
  {
   "cell_type": "markdown",
   "metadata": {},
   "source": [
    "#### 6. Escribe un programa que determine si un número es positivo, negativo o cero."
   ]
  },
  {
   "cell_type": "code",
   "execution_count": 56,
   "metadata": {},
   "outputs": [
    {
     "name": "stdout",
     "output_type": "stream",
     "text": [
      "positivo\n"
     ]
    }
   ],
   "source": [
    "signo = int(input(\"Introduzca un número:\"))\n",
    "\n",
    "if signo < 0:\n",
    "    print(\"negativo\")\n",
    "elif signo == 0:\n",
    "    print(\"cero\")\n",
    "else:\n",
    "    print(\"positivo\")\n"
   ]
  },
  {
   "cell_type": "markdown",
   "metadata": {},
   "source": [
    "#### 7. Escribe un programa que determine si una persona puede conducir o no. La edad mínima para conducir es 18 años. \n"
   ]
  },
  {
   "cell_type": "code",
   "execution_count": 62,
   "metadata": {},
   "outputs": [
    {
     "name": "stdout",
     "output_type": "stream",
     "text": [
      "No puede conducir\n"
     ]
    }
   ],
   "source": [
    "conducir = int(input(\"Introduzca su edad\"))\n",
    "\n",
    "if conducir < 18:\n",
    "    print(\"No puede conducir\")\n",
    "else: \n",
    "    print(\"Puede conducir\")\n"
   ]
  },
  {
   "cell_type": "markdown",
   "metadata": {},
   "source": [
    "#### 8. Escribe un programa que determine si un estudiante aprobó o suspendió un examen."
   ]
  },
  {
   "cell_type": "code",
   "execution_count": 64,
   "metadata": {},
   "outputs": [
    {
     "name": "stdout",
     "output_type": "stream",
     "text": [
      "aprobado\n"
     ]
    }
   ],
   "source": [
    "nota_examen = int(input(\"Introduzca su nota:\"))\n",
    "\n",
    "if nota_examen < 5:\n",
    "    print(\"suspendido\")\n",
    "else:\n",
    "    print(\"aprobado\")"
   ]
  },
  {
   "cell_type": "markdown",
   "metadata": {},
   "source": [
    "#### 9. Escribe un programa que determine si un número es múltiplo de 3 y 5.\n"
   ]
  },
  {
   "cell_type": "code",
   "execution_count": 79,
   "metadata": {},
   "outputs": [
    {
     "name": "stdout",
     "output_type": "stream",
     "text": [
      "5es múltiplo de 5\n"
     ]
    }
   ],
   "source": [
    "múltiplo = int(input(\"¿Es múltiplo de 3 y 5?\"))\n",
    "\n",
    "if múltiplo % 3 == 0:\n",
    "    print(f\"{múltiplo}es múltiplo de 3\")\n",
    "elif múltiplo % 5 == 0:\n",
    "    print(f\"{múltiplo}es múltiplo de 5\")"
   ]
  },
  {
   "cell_type": "markdown",
   "metadata": {},
   "source": [
    "#### 10. Escribe un programa que determine si un número es par o impar.\n"
   ]
  },
  {
   "cell_type": "code",
   "execution_count": 76,
   "metadata": {},
   "outputs": [
    {
     "name": "stdout",
     "output_type": "stream",
     "text": [
      "Es par\n"
     ]
    }
   ],
   "source": [
    "par_impar = int(input(\"¿Es par o impar?:\"))\n",
    "\n",
    "if par_impar % 2 == 0:\n",
    "    print(\"Es par\")\n",
    "else:\n",
    "    (print(\"Es impar\"))\n",
    "    "
   ]
  }
 ],
 "metadata": {
  "kernelspec": {
   "display_name": "Python 3",
   "language": "python",
   "name": "python3"
  },
  "language_info": {
   "codemirror_mode": {
    "name": "ipython",
    "version": 3
   },
   "file_extension": ".py",
   "mimetype": "text/x-python",
   "name": "python",
   "nbconvert_exporter": "python",
   "pygments_lexer": "ipython3",
   "version": "3.12.5"
  }
 },
 "nbformat": 4,
 "nbformat_minor": 2
}
